{
 "cells": [
  {
   "cell_type": "markdown",
   "metadata": {
    "colab_type": "text",
    "id": "qacqiXogluN_"
   },
   "source": [
    "\n",
    "\n",
    "\n",
    "\n",
    "-_Lambda School Data Science_\n",
    "\n",
    "# Make features\n",
    "\n",
    "Objectives\n",
    "-  understand the purpose of feature engineering\n",
    "-  work with strings in pandas\n",
    "- work with dates and times in pandas\n",
    "\n",
    "Links\n",
    "- [Feature Engineering](https://en.wikipedia.org/wiki/Feature_engineering)\n",
    "- Python Data Science Handbook\n",
    "  - [Chapter 3.10](https://jakevdp.github.io/PythonDataScienceHandbook/03.10-working-with-strings.html), Vectorized String Operations\n",
    "  - [Chapter 3.11](https://jakevdp.github.io/PythonDataScienceHandbook/03.11-working-with-time-series.html), Working with Time Series"
   ]
  },
  {
   "cell_type": "code",
   "execution_count": 1,
   "metadata": {},
   "outputs": [
    {
     "data": {
      "text/html": [
       "<div>\n",
       "<style scoped>\n",
       "    .dataframe tbody tr th:only-of-type {\n",
       "        vertical-align: middle;\n",
       "    }\n",
       "\n",
       "    .dataframe tbody tr th {\n",
       "        vertical-align: top;\n",
       "    }\n",
       "\n",
       "    .dataframe thead th {\n",
       "        text-align: right;\n",
       "    }\n",
       "</style>\n",
       "<table border=\"1\" class=\"dataframe\">\n",
       "  <thead>\n",
       "    <tr style=\"text-align: right;\">\n",
       "      <th></th>\n",
       "      <th>animal</th>\n",
       "      <th>country</th>\n",
       "      <th>gender</th>\n",
       "      <th>cat_integers</th>\n",
       "    </tr>\n",
       "  </thead>\n",
       "  <tbody>\n",
       "    <tr>\n",
       "      <th>0</th>\n",
       "      <td>cat</td>\n",
       "      <td>USA</td>\n",
       "      <td>male</td>\n",
       "      <td>1</td>\n",
       "    </tr>\n",
       "    <tr>\n",
       "      <th>1</th>\n",
       "      <td>cat</td>\n",
       "      <td>Canada</td>\n",
       "      <td>female</td>\n",
       "      <td>1</td>\n",
       "    </tr>\n",
       "    <tr>\n",
       "      <th>2</th>\n",
       "      <td>dog</td>\n",
       "      <td>Canada</td>\n",
       "      <td>male</td>\n",
       "      <td>0</td>\n",
       "    </tr>\n",
       "    <tr>\n",
       "      <th>3</th>\n",
       "      <td>cat</td>\n",
       "      <td>Canada</td>\n",
       "      <td>male</td>\n",
       "      <td>1</td>\n",
       "    </tr>\n",
       "    <tr>\n",
       "      <th>4</th>\n",
       "      <td>dog</td>\n",
       "      <td>USA</td>\n",
       "      <td>male</td>\n",
       "      <td>0</td>\n",
       "    </tr>\n",
       "    <tr>\n",
       "      <th>5</th>\n",
       "      <td>cat</td>\n",
       "      <td>Canada</td>\n",
       "      <td>male</td>\n",
       "      <td>1</td>\n",
       "    </tr>\n",
       "    <tr>\n",
       "      <th>6</th>\n",
       "      <td>dog</td>\n",
       "      <td>USA</td>\n",
       "      <td>female</td>\n",
       "      <td>0</td>\n",
       "    </tr>\n",
       "    <tr>\n",
       "      <th>7</th>\n",
       "      <td>dog</td>\n",
       "      <td>USA</td>\n",
       "      <td>female</td>\n",
       "      <td>0</td>\n",
       "    </tr>\n",
       "  </tbody>\n",
       "</table>\n",
       "</div>"
      ],
      "text/plain": [
       "  animal country  gender  cat_integers\n",
       "0    cat     USA    male             1\n",
       "1    cat  Canada  female             1\n",
       "2    dog  Canada    male             0\n",
       "3    cat  Canada    male             1\n",
       "4    dog     USA    male             0\n",
       "5    cat  Canada    male             1\n",
       "6    dog     USA  female             0\n",
       "7    dog     USA  female             0"
      ]
     },
     "execution_count": 1,
     "metadata": {},
     "output_type": "execute_result"
    }
   ],
   "source": [
    "import pandas as pd\n",
    "\n",
    "df = pd.DataFrame({'animal': ['cat', 'cat', 'dog', 'cat', 'dog', 'cat', 'dog', 'dog'], \n",
    "                   'country': ['USA', 'Canada', 'Canada', 'Canada', 'USA', 'Canada', 'USA', 'USA'], \n",
    "                   'gender': ['male','female','male','male','male','male','female','female'],\n",
    "                   'cat_integers': [1,1,0,1,0,1,0,0]})\n",
    "\n",
    "df.head(8)"
   ]
  },
  {
   "cell_type": "code",
   "execution_count": 2,
   "metadata": {},
   "outputs": [
    {
     "data": {
      "text/html": [
       "<div>\n",
       "<style scoped>\n",
       "    .dataframe tbody tr th:only-of-type {\n",
       "        vertical-align: middle;\n",
       "    }\n",
       "\n",
       "    .dataframe tbody tr th {\n",
       "        vertical-align: top;\n",
       "    }\n",
       "\n",
       "    .dataframe thead th {\n",
       "        text-align: right;\n",
       "    }\n",
       "</style>\n",
       "<table border=\"1\" class=\"dataframe\">\n",
       "  <thead>\n",
       "    <tr style=\"text-align: right;\">\n",
       "      <th>country</th>\n",
       "      <th>Canada</th>\n",
       "      <th>USA</th>\n",
       "    </tr>\n",
       "    <tr>\n",
       "      <th>animal</th>\n",
       "      <th></th>\n",
       "      <th></th>\n",
       "    </tr>\n",
       "  </thead>\n",
       "  <tbody>\n",
       "    <tr>\n",
       "      <th>cat</th>\n",
       "      <td>3</td>\n",
       "      <td>1</td>\n",
       "    </tr>\n",
       "    <tr>\n",
       "      <th>dog</th>\n",
       "      <td>1</td>\n",
       "      <td>3</td>\n",
       "    </tr>\n",
       "  </tbody>\n",
       "</table>\n",
       "</div>"
      ],
      "text/plain": [
       "country  Canada  USA\n",
       "animal              \n",
       "cat           3    1\n",
       "dog           1    3"
      ]
     },
     "execution_count": 2,
     "metadata": {},
     "output_type": "execute_result"
    }
   ],
   "source": [
    "pd.crosstab(df['animal'], df['country'])"
   ]
  },
  {
   "cell_type": "code",
   "execution_count": 3,
   "metadata": {},
   "outputs": [
    {
     "data": {
      "text/html": [
       "<div>\n",
       "<style scoped>\n",
       "    .dataframe tbody tr th:only-of-type {\n",
       "        vertical-align: middle;\n",
       "    }\n",
       "\n",
       "    .dataframe tbody tr th {\n",
       "        vertical-align: top;\n",
       "    }\n",
       "\n",
       "    .dataframe thead th {\n",
       "        text-align: right;\n",
       "    }\n",
       "</style>\n",
       "<table border=\"1\" class=\"dataframe\">\n",
       "  <thead>\n",
       "    <tr style=\"text-align: right;\">\n",
       "      <th>gender</th>\n",
       "      <th>female</th>\n",
       "      <th>male</th>\n",
       "    </tr>\n",
       "    <tr>\n",
       "      <th>country</th>\n",
       "      <th></th>\n",
       "      <th></th>\n",
       "    </tr>\n",
       "  </thead>\n",
       "  <tbody>\n",
       "    <tr>\n",
       "      <th>Canada</th>\n",
       "      <td>1</td>\n",
       "      <td>3</td>\n",
       "    </tr>\n",
       "    <tr>\n",
       "      <th>USA</th>\n",
       "      <td>2</td>\n",
       "      <td>2</td>\n",
       "    </tr>\n",
       "  </tbody>\n",
       "</table>\n",
       "</div>"
      ],
      "text/plain": [
       "gender   female  male\n",
       "country              \n",
       "Canada        1     3\n",
       "USA           2     2"
      ]
     },
     "execution_count": 3,
     "metadata": {},
     "output_type": "execute_result"
    }
   ],
   "source": [
    "pd.crosstab(df['country'], df['gender'])"
   ]
  },
  {
   "cell_type": "code",
   "execution_count": 4,
   "metadata": {},
   "outputs": [
    {
     "data": {
      "text/html": [
       "<div>\n",
       "<style scoped>\n",
       "    .dataframe tbody tr th:only-of-type {\n",
       "        vertical-align: middle;\n",
       "    }\n",
       "\n",
       "    .dataframe tbody tr th {\n",
       "        vertical-align: top;\n",
       "    }\n",
       "\n",
       "    .dataframe thead th {\n",
       "        text-align: right;\n",
       "    }\n",
       "</style>\n",
       "<table border=\"1\" class=\"dataframe\">\n",
       "  <thead>\n",
       "    <tr style=\"text-align: right;\">\n",
       "      <th>gender</th>\n",
       "      <th>female</th>\n",
       "      <th>male</th>\n",
       "    </tr>\n",
       "    <tr>\n",
       "      <th>country</th>\n",
       "      <th></th>\n",
       "      <th></th>\n",
       "    </tr>\n",
       "  </thead>\n",
       "  <tbody>\n",
       "    <tr>\n",
       "      <th>Canada</th>\n",
       "      <td>0.333333</td>\n",
       "      <td>0.6</td>\n",
       "    </tr>\n",
       "    <tr>\n",
       "      <th>USA</th>\n",
       "      <td>0.666667</td>\n",
       "      <td>0.4</td>\n",
       "    </tr>\n",
       "  </tbody>\n",
       "</table>\n",
       "</div>"
      ],
      "text/plain": [
       "gender     female  male\n",
       "country                \n",
       "Canada   0.333333   0.6\n",
       "USA      0.666667   0.4"
      ]
     },
     "execution_count": 4,
     "metadata": {},
     "output_type": "execute_result"
    }
   ],
   "source": [
    "pd.crosstab(df['country'], df['gender'], normalize='columns')"
   ]
  },
  {
   "cell_type": "code",
   "execution_count": 5,
   "metadata": {},
   "outputs": [
    {
     "data": {
      "text/html": [
       "<div>\n",
       "<style scoped>\n",
       "    .dataframe tbody tr th:only-of-type {\n",
       "        vertical-align: middle;\n",
       "    }\n",
       "\n",
       "    .dataframe tbody tr th {\n",
       "        vertical-align: top;\n",
       "    }\n",
       "\n",
       "    .dataframe thead th {\n",
       "        text-align: right;\n",
       "    }\n",
       "</style>\n",
       "<table border=\"1\" class=\"dataframe\">\n",
       "  <thead>\n",
       "    <tr style=\"text-align: right;\">\n",
       "      <th>gender</th>\n",
       "      <th>female</th>\n",
       "      <th>male</th>\n",
       "    </tr>\n",
       "    <tr>\n",
       "      <th>country</th>\n",
       "      <th></th>\n",
       "      <th></th>\n",
       "    </tr>\n",
       "  </thead>\n",
       "  <tbody>\n",
       "    <tr>\n",
       "      <th>Canada</th>\n",
       "      <td>0.25</td>\n",
       "      <td>0.75</td>\n",
       "    </tr>\n",
       "    <tr>\n",
       "      <th>USA</th>\n",
       "      <td>0.50</td>\n",
       "      <td>0.50</td>\n",
       "    </tr>\n",
       "  </tbody>\n",
       "</table>\n",
       "</div>"
      ],
      "text/plain": [
       "gender   female  male\n",
       "country              \n",
       "Canada     0.25  0.75\n",
       "USA        0.50  0.50"
      ]
     },
     "execution_count": 5,
     "metadata": {},
     "output_type": "execute_result"
    }
   ],
   "source": [
    "pd.crosstab(df['country'], df['gender'], normalize='index')"
   ]
  },
  {
   "cell_type": "code",
   "execution_count": 6,
   "metadata": {},
   "outputs": [
    {
     "data": {
      "text/html": [
       "<div>\n",
       "<style scoped>\n",
       "    .dataframe tbody tr th:only-of-type {\n",
       "        vertical-align: middle;\n",
       "    }\n",
       "\n",
       "    .dataframe tbody tr th {\n",
       "        vertical-align: top;\n",
       "    }\n",
       "\n",
       "    .dataframe thead tr th {\n",
       "        text-align: left;\n",
       "    }\n",
       "\n",
       "    .dataframe thead tr:last-of-type th {\n",
       "        text-align: right;\n",
       "    }\n",
       "</style>\n",
       "<table border=\"1\" class=\"dataframe\">\n",
       "  <thead>\n",
       "    <tr>\n",
       "      <th>gender</th>\n",
       "      <th colspan=\"2\" halign=\"left\">female</th>\n",
       "      <th colspan=\"2\" halign=\"left\">male</th>\n",
       "    </tr>\n",
       "    <tr>\n",
       "      <th>animal</th>\n",
       "      <th>cat</th>\n",
       "      <th>dog</th>\n",
       "      <th>cat</th>\n",
       "      <th>dog</th>\n",
       "    </tr>\n",
       "    <tr>\n",
       "      <th>country</th>\n",
       "      <th></th>\n",
       "      <th></th>\n",
       "      <th></th>\n",
       "      <th></th>\n",
       "    </tr>\n",
       "  </thead>\n",
       "  <tbody>\n",
       "    <tr>\n",
       "      <th>Canada</th>\n",
       "      <td>1</td>\n",
       "      <td>0</td>\n",
       "      <td>2</td>\n",
       "      <td>1</td>\n",
       "    </tr>\n",
       "    <tr>\n",
       "      <th>USA</th>\n",
       "      <td>0</td>\n",
       "      <td>2</td>\n",
       "      <td>1</td>\n",
       "      <td>1</td>\n",
       "    </tr>\n",
       "  </tbody>\n",
       "</table>\n",
       "</div>"
      ],
      "text/plain": [
       "gender  female     male    \n",
       "animal     cat dog  cat dog\n",
       "country                    \n",
       "Canada       1   0    2   1\n",
       "USA          0   2    1   1"
      ]
     },
     "execution_count": 6,
     "metadata": {},
     "output_type": "execute_result"
    }
   ],
   "source": [
    "pd.crosstab(df['country'], [df['gender'], df['animal']])"
   ]
  },
  {
   "cell_type": "code",
   "execution_count": 7,
   "metadata": {},
   "outputs": [
    {
     "data": {
      "text/html": [
       "<div>\n",
       "<style scoped>\n",
       "    .dataframe tbody tr th:only-of-type {\n",
       "        vertical-align: middle;\n",
       "    }\n",
       "\n",
       "    .dataframe tbody tr th {\n",
       "        vertical-align: top;\n",
       "    }\n",
       "\n",
       "    .dataframe thead tr th {\n",
       "        text-align: left;\n",
       "    }\n",
       "\n",
       "    .dataframe thead tr:last-of-type th {\n",
       "        text-align: right;\n",
       "    }\n",
       "</style>\n",
       "<table border=\"1\" class=\"dataframe\">\n",
       "  <thead>\n",
       "    <tr>\n",
       "      <th>gender</th>\n",
       "      <th colspan=\"2\" halign=\"left\">female</th>\n",
       "      <th colspan=\"2\" halign=\"left\">male</th>\n",
       "      <th>All</th>\n",
       "    </tr>\n",
       "    <tr>\n",
       "      <th>animal</th>\n",
       "      <th>cat</th>\n",
       "      <th>dog</th>\n",
       "      <th>cat</th>\n",
       "      <th>dog</th>\n",
       "      <th></th>\n",
       "    </tr>\n",
       "    <tr>\n",
       "      <th>country</th>\n",
       "      <th></th>\n",
       "      <th></th>\n",
       "      <th></th>\n",
       "      <th></th>\n",
       "      <th></th>\n",
       "    </tr>\n",
       "  </thead>\n",
       "  <tbody>\n",
       "    <tr>\n",
       "      <th>Canada</th>\n",
       "      <td>1</td>\n",
       "      <td>0</td>\n",
       "      <td>2</td>\n",
       "      <td>1</td>\n",
       "      <td>4</td>\n",
       "    </tr>\n",
       "    <tr>\n",
       "      <th>USA</th>\n",
       "      <td>0</td>\n",
       "      <td>2</td>\n",
       "      <td>1</td>\n",
       "      <td>1</td>\n",
       "      <td>4</td>\n",
       "    </tr>\n",
       "    <tr>\n",
       "      <th>All</th>\n",
       "      <td>1</td>\n",
       "      <td>2</td>\n",
       "      <td>3</td>\n",
       "      <td>2</td>\n",
       "      <td>8</td>\n",
       "    </tr>\n",
       "  </tbody>\n",
       "</table>\n",
       "</div>"
      ],
      "text/plain": [
       "gender  female     male     All\n",
       "animal     cat dog  cat dog    \n",
       "country                        \n",
       "Canada       1   0    2   1   4\n",
       "USA          0   2    1   1   4\n",
       "All          1   2    3   2   8"
      ]
     },
     "execution_count": 7,
     "metadata": {},
     "output_type": "execute_result"
    }
   ],
   "source": [
    "pd.crosstab(df['country'], [df['gender'], df['animal']], margins=True)"
   ]
  },
  {
   "cell_type": "markdown",
   "metadata": {
    "colab_type": "text",
    "id": "iSGiSktAoWIx"
   },
   "source": [
    "## Get LendingClub data\n",
    "\n",
    "[Source](https://www.lendingclub.com/info/download-data.action)"
   ]
  },
  {
   "cell_type": "code",
   "execution_count": 8,
   "metadata": {},
   "outputs": [],
   "source": [
    "import numpy as np\n",
    "import pandas as pd"
   ]
  },
  {
   "cell_type": "code",
   "execution_count": 9,
   "metadata": {},
   "outputs": [],
   "source": [
    "df = pd.read_csv('https://resources.lendingclub.com/LoanStats_2018Q4.csv.zip', compression='zip', header=1, skipfooter=2, sep=',', quotechar='\"', engine='python')"
   ]
  },
  {
   "cell_type": "code",
   "execution_count": 10,
   "metadata": {},
   "outputs": [
    {
     "data": {
      "text/html": [
       "<div>\n",
       "<style scoped>\n",
       "    .dataframe tbody tr th:only-of-type {\n",
       "        vertical-align: middle;\n",
       "    }\n",
       "\n",
       "    .dataframe tbody tr th {\n",
       "        vertical-align: top;\n",
       "    }\n",
       "\n",
       "    .dataframe thead th {\n",
       "        text-align: right;\n",
       "    }\n",
       "</style>\n",
       "<table border=\"1\" class=\"dataframe\">\n",
       "  <thead>\n",
       "    <tr style=\"text-align: right;\">\n",
       "      <th></th>\n",
       "      <th>id</th>\n",
       "      <th>member_id</th>\n",
       "      <th>loan_amnt</th>\n",
       "      <th>funded_amnt</th>\n",
       "      <th>funded_amnt_inv</th>\n",
       "      <th>term</th>\n",
       "      <th>int_rate</th>\n",
       "      <th>installment</th>\n",
       "      <th>grade</th>\n",
       "      <th>sub_grade</th>\n",
       "      <th>...</th>\n",
       "      <th>orig_projected_additional_accrued_interest</th>\n",
       "      <th>hardship_payoff_balance_amount</th>\n",
       "      <th>hardship_last_payment_amount</th>\n",
       "      <th>debt_settlement_flag</th>\n",
       "      <th>debt_settlement_flag_date</th>\n",
       "      <th>settlement_status</th>\n",
       "      <th>settlement_date</th>\n",
       "      <th>settlement_amount</th>\n",
       "      <th>settlement_percentage</th>\n",
       "      <th>settlement_term</th>\n",
       "    </tr>\n",
       "  </thead>\n",
       "  <tbody>\n",
       "    <tr>\n",
       "      <th>0</th>\n",
       "      <td>NaN</td>\n",
       "      <td>NaN</td>\n",
       "      <td>20000</td>\n",
       "      <td>20000</td>\n",
       "      <td>20000.0</td>\n",
       "      <td>36 months</td>\n",
       "      <td>14.47%</td>\n",
       "      <td>688.13</td>\n",
       "      <td>C</td>\n",
       "      <td>C2</td>\n",
       "      <td>...</td>\n",
       "      <td>NaN</td>\n",
       "      <td>NaN</td>\n",
       "      <td>NaN</td>\n",
       "      <td>N</td>\n",
       "      <td>NaN</td>\n",
       "      <td>NaN</td>\n",
       "      <td>NaN</td>\n",
       "      <td>NaN</td>\n",
       "      <td>NaN</td>\n",
       "      <td>NaN</td>\n",
       "    </tr>\n",
       "    <tr>\n",
       "      <th>1</th>\n",
       "      <td>NaN</td>\n",
       "      <td>NaN</td>\n",
       "      <td>25000</td>\n",
       "      <td>25000</td>\n",
       "      <td>25000.0</td>\n",
       "      <td>60 months</td>\n",
       "      <td>16.14%</td>\n",
       "      <td>609.82</td>\n",
       "      <td>C</td>\n",
       "      <td>C4</td>\n",
       "      <td>...</td>\n",
       "      <td>NaN</td>\n",
       "      <td>NaN</td>\n",
       "      <td>NaN</td>\n",
       "      <td>N</td>\n",
       "      <td>NaN</td>\n",
       "      <td>NaN</td>\n",
       "      <td>NaN</td>\n",
       "      <td>NaN</td>\n",
       "      <td>NaN</td>\n",
       "      <td>NaN</td>\n",
       "    </tr>\n",
       "    <tr>\n",
       "      <th>2</th>\n",
       "      <td>NaN</td>\n",
       "      <td>NaN</td>\n",
       "      <td>26500</td>\n",
       "      <td>26500</td>\n",
       "      <td>26500.0</td>\n",
       "      <td>60 months</td>\n",
       "      <td>11.31%</td>\n",
       "      <td>580.28</td>\n",
       "      <td>B</td>\n",
       "      <td>B3</td>\n",
       "      <td>...</td>\n",
       "      <td>NaN</td>\n",
       "      <td>NaN</td>\n",
       "      <td>NaN</td>\n",
       "      <td>N</td>\n",
       "      <td>NaN</td>\n",
       "      <td>NaN</td>\n",
       "      <td>NaN</td>\n",
       "      <td>NaN</td>\n",
       "      <td>NaN</td>\n",
       "      <td>NaN</td>\n",
       "    </tr>\n",
       "    <tr>\n",
       "      <th>3</th>\n",
       "      <td>NaN</td>\n",
       "      <td>NaN</td>\n",
       "      <td>10400</td>\n",
       "      <td>10400</td>\n",
       "      <td>10400.0</td>\n",
       "      <td>36 months</td>\n",
       "      <td>12.98%</td>\n",
       "      <td>350.32</td>\n",
       "      <td>B</td>\n",
       "      <td>B5</td>\n",
       "      <td>...</td>\n",
       "      <td>NaN</td>\n",
       "      <td>NaN</td>\n",
       "      <td>NaN</td>\n",
       "      <td>N</td>\n",
       "      <td>NaN</td>\n",
       "      <td>NaN</td>\n",
       "      <td>NaN</td>\n",
       "      <td>NaN</td>\n",
       "      <td>NaN</td>\n",
       "      <td>NaN</td>\n",
       "    </tr>\n",
       "    <tr>\n",
       "      <th>4</th>\n",
       "      <td>NaN</td>\n",
       "      <td>NaN</td>\n",
       "      <td>35000</td>\n",
       "      <td>35000</td>\n",
       "      <td>35000.0</td>\n",
       "      <td>60 months</td>\n",
       "      <td>12.98%</td>\n",
       "      <td>796.00</td>\n",
       "      <td>B</td>\n",
       "      <td>B5</td>\n",
       "      <td>...</td>\n",
       "      <td>NaN</td>\n",
       "      <td>NaN</td>\n",
       "      <td>NaN</td>\n",
       "      <td>N</td>\n",
       "      <td>NaN</td>\n",
       "      <td>NaN</td>\n",
       "      <td>NaN</td>\n",
       "      <td>NaN</td>\n",
       "      <td>NaN</td>\n",
       "      <td>NaN</td>\n",
       "    </tr>\n",
       "  </tbody>\n",
       "</table>\n",
       "<p>5 rows × 144 columns</p>\n",
       "</div>"
      ],
      "text/plain": [
       "   id  member_id  loan_amnt  funded_amnt  funded_amnt_inv        term  \\\n",
       "0 NaN        NaN      20000        20000          20000.0   36 months   \n",
       "1 NaN        NaN      25000        25000          25000.0   60 months   \n",
       "2 NaN        NaN      26500        26500          26500.0   60 months   \n",
       "3 NaN        NaN      10400        10400          10400.0   36 months   \n",
       "4 NaN        NaN      35000        35000          35000.0   60 months   \n",
       "\n",
       "  int_rate  installment grade sub_grade       ...         \\\n",
       "0   14.47%       688.13     C        C2       ...          \n",
       "1   16.14%       609.82     C        C4       ...          \n",
       "2   11.31%       580.28     B        B3       ...          \n",
       "3   12.98%       350.32     B        B5       ...          \n",
       "4   12.98%       796.00     B        B5       ...          \n",
       "\n",
       "  orig_projected_additional_accrued_interest hardship_payoff_balance_amount  \\\n",
       "0                                        NaN                            NaN   \n",
       "1                                        NaN                            NaN   \n",
       "2                                        NaN                            NaN   \n",
       "3                                        NaN                            NaN   \n",
       "4                                        NaN                            NaN   \n",
       "\n",
       "  hardship_last_payment_amount  debt_settlement_flag  \\\n",
       "0                          NaN                     N   \n",
       "1                          NaN                     N   \n",
       "2                          NaN                     N   \n",
       "3                          NaN                     N   \n",
       "4                          NaN                     N   \n",
       "\n",
       "  debt_settlement_flag_date settlement_status settlement_date  \\\n",
       "0                       NaN               NaN             NaN   \n",
       "1                       NaN               NaN             NaN   \n",
       "2                       NaN               NaN             NaN   \n",
       "3                       NaN               NaN             NaN   \n",
       "4                       NaN               NaN             NaN   \n",
       "\n",
       "  settlement_amount  settlement_percentage  settlement_term  \n",
       "0               NaN                    NaN              NaN  \n",
       "1               NaN                    NaN              NaN  \n",
       "2               NaN                    NaN              NaN  \n",
       "3               NaN                    NaN              NaN  \n",
       "4               NaN                    NaN              NaN  \n",
       "\n",
       "[5 rows x 144 columns]"
      ]
     },
     "execution_count": 10,
     "metadata": {},
     "output_type": "execute_result"
    }
   ],
   "source": [
    "df.head()"
   ]
  },
  {
   "cell_type": "code",
   "execution_count": 11,
   "metadata": {},
   "outputs": [
    {
     "data": {
      "text/html": [
       "<div>\n",
       "<style scoped>\n",
       "    .dataframe tbody tr th:only-of-type {\n",
       "        vertical-align: middle;\n",
       "    }\n",
       "\n",
       "    .dataframe tbody tr th {\n",
       "        vertical-align: top;\n",
       "    }\n",
       "\n",
       "    .dataframe thead th {\n",
       "        text-align: right;\n",
       "    }\n",
       "</style>\n",
       "<table border=\"1\" class=\"dataframe\">\n",
       "  <thead>\n",
       "    <tr style=\"text-align: right;\">\n",
       "      <th></th>\n",
       "      <th>id</th>\n",
       "      <th>member_id</th>\n",
       "      <th>loan_amnt</th>\n",
       "      <th>funded_amnt</th>\n",
       "      <th>funded_amnt_inv</th>\n",
       "      <th>term</th>\n",
       "      <th>int_rate</th>\n",
       "      <th>installment</th>\n",
       "      <th>grade</th>\n",
       "      <th>sub_grade</th>\n",
       "      <th>...</th>\n",
       "      <th>orig_projected_additional_accrued_interest</th>\n",
       "      <th>hardship_payoff_balance_amount</th>\n",
       "      <th>hardship_last_payment_amount</th>\n",
       "      <th>debt_settlement_flag</th>\n",
       "      <th>debt_settlement_flag_date</th>\n",
       "      <th>settlement_status</th>\n",
       "      <th>settlement_date</th>\n",
       "      <th>settlement_amount</th>\n",
       "      <th>settlement_percentage</th>\n",
       "      <th>settlement_term</th>\n",
       "    </tr>\n",
       "  </thead>\n",
       "  <tbody>\n",
       "    <tr>\n",
       "      <th>128407</th>\n",
       "      <td>NaN</td>\n",
       "      <td>NaN</td>\n",
       "      <td>23000</td>\n",
       "      <td>23000</td>\n",
       "      <td>23000.0</td>\n",
       "      <td>36 months</td>\n",
       "      <td>15.02%</td>\n",
       "      <td>797.53</td>\n",
       "      <td>C</td>\n",
       "      <td>C3</td>\n",
       "      <td>...</td>\n",
       "      <td>NaN</td>\n",
       "      <td>NaN</td>\n",
       "      <td>NaN</td>\n",
       "      <td>N</td>\n",
       "      <td>NaN</td>\n",
       "      <td>NaN</td>\n",
       "      <td>NaN</td>\n",
       "      <td>NaN</td>\n",
       "      <td>NaN</td>\n",
       "      <td>NaN</td>\n",
       "    </tr>\n",
       "    <tr>\n",
       "      <th>128408</th>\n",
       "      <td>NaN</td>\n",
       "      <td>NaN</td>\n",
       "      <td>10000</td>\n",
       "      <td>10000</td>\n",
       "      <td>10000.0</td>\n",
       "      <td>36 months</td>\n",
       "      <td>15.02%</td>\n",
       "      <td>346.76</td>\n",
       "      <td>C</td>\n",
       "      <td>C3</td>\n",
       "      <td>...</td>\n",
       "      <td>NaN</td>\n",
       "      <td>NaN</td>\n",
       "      <td>NaN</td>\n",
       "      <td>N</td>\n",
       "      <td>NaN</td>\n",
       "      <td>NaN</td>\n",
       "      <td>NaN</td>\n",
       "      <td>NaN</td>\n",
       "      <td>NaN</td>\n",
       "      <td>NaN</td>\n",
       "    </tr>\n",
       "    <tr>\n",
       "      <th>128409</th>\n",
       "      <td>NaN</td>\n",
       "      <td>NaN</td>\n",
       "      <td>5000</td>\n",
       "      <td>5000</td>\n",
       "      <td>5000.0</td>\n",
       "      <td>36 months</td>\n",
       "      <td>13.56%</td>\n",
       "      <td>169.83</td>\n",
       "      <td>C</td>\n",
       "      <td>C1</td>\n",
       "      <td>...</td>\n",
       "      <td>NaN</td>\n",
       "      <td>NaN</td>\n",
       "      <td>NaN</td>\n",
       "      <td>N</td>\n",
       "      <td>NaN</td>\n",
       "      <td>NaN</td>\n",
       "      <td>NaN</td>\n",
       "      <td>NaN</td>\n",
       "      <td>NaN</td>\n",
       "      <td>NaN</td>\n",
       "    </tr>\n",
       "    <tr>\n",
       "      <th>128410</th>\n",
       "      <td>NaN</td>\n",
       "      <td>NaN</td>\n",
       "      <td>10000</td>\n",
       "      <td>10000</td>\n",
       "      <td>9750.0</td>\n",
       "      <td>36 months</td>\n",
       "      <td>11.06%</td>\n",
       "      <td>327.68</td>\n",
       "      <td>B</td>\n",
       "      <td>B3</td>\n",
       "      <td>...</td>\n",
       "      <td>NaN</td>\n",
       "      <td>NaN</td>\n",
       "      <td>NaN</td>\n",
       "      <td>N</td>\n",
       "      <td>NaN</td>\n",
       "      <td>NaN</td>\n",
       "      <td>NaN</td>\n",
       "      <td>NaN</td>\n",
       "      <td>NaN</td>\n",
       "      <td>NaN</td>\n",
       "    </tr>\n",
       "    <tr>\n",
       "      <th>128411</th>\n",
       "      <td>NaN</td>\n",
       "      <td>NaN</td>\n",
       "      <td>10000</td>\n",
       "      <td>10000</td>\n",
       "      <td>10000.0</td>\n",
       "      <td>36 months</td>\n",
       "      <td>16.91%</td>\n",
       "      <td>356.08</td>\n",
       "      <td>C</td>\n",
       "      <td>C5</td>\n",
       "      <td>...</td>\n",
       "      <td>NaN</td>\n",
       "      <td>NaN</td>\n",
       "      <td>NaN</td>\n",
       "      <td>N</td>\n",
       "      <td>NaN</td>\n",
       "      <td>NaN</td>\n",
       "      <td>NaN</td>\n",
       "      <td>NaN</td>\n",
       "      <td>NaN</td>\n",
       "      <td>NaN</td>\n",
       "    </tr>\n",
       "  </tbody>\n",
       "</table>\n",
       "<p>5 rows × 144 columns</p>\n",
       "</div>"
      ],
      "text/plain": [
       "        id  member_id  loan_amnt  funded_amnt  funded_amnt_inv        term  \\\n",
       "128407 NaN        NaN      23000        23000          23000.0   36 months   \n",
       "128408 NaN        NaN      10000        10000          10000.0   36 months   \n",
       "128409 NaN        NaN       5000         5000           5000.0   36 months   \n",
       "128410 NaN        NaN      10000        10000           9750.0   36 months   \n",
       "128411 NaN        NaN      10000        10000          10000.0   36 months   \n",
       "\n",
       "       int_rate  installment grade sub_grade       ...         \\\n",
       "128407   15.02%       797.53     C        C3       ...          \n",
       "128408   15.02%       346.76     C        C3       ...          \n",
       "128409   13.56%       169.83     C        C1       ...          \n",
       "128410   11.06%       327.68     B        B3       ...          \n",
       "128411   16.91%       356.08     C        C5       ...          \n",
       "\n",
       "       orig_projected_additional_accrued_interest  \\\n",
       "128407                                        NaN   \n",
       "128408                                        NaN   \n",
       "128409                                        NaN   \n",
       "128410                                        NaN   \n",
       "128411                                        NaN   \n",
       "\n",
       "       hardship_payoff_balance_amount hardship_last_payment_amount  \\\n",
       "128407                            NaN                          NaN   \n",
       "128408                            NaN                          NaN   \n",
       "128409                            NaN                          NaN   \n",
       "128410                            NaN                          NaN   \n",
       "128411                            NaN                          NaN   \n",
       "\n",
       "        debt_settlement_flag debt_settlement_flag_date settlement_status  \\\n",
       "128407                     N                       NaN               NaN   \n",
       "128408                     N                       NaN               NaN   \n",
       "128409                     N                       NaN               NaN   \n",
       "128410                     N                       NaN               NaN   \n",
       "128411                     N                       NaN               NaN   \n",
       "\n",
       "       settlement_date settlement_amount  settlement_percentage  \\\n",
       "128407             NaN               NaN                    NaN   \n",
       "128408             NaN               NaN                    NaN   \n",
       "128409             NaN               NaN                    NaN   \n",
       "128410             NaN               NaN                    NaN   \n",
       "128411             NaN               NaN                    NaN   \n",
       "\n",
       "        settlement_term  \n",
       "128407              NaN  \n",
       "128408              NaN  \n",
       "128409              NaN  \n",
       "128410              NaN  \n",
       "128411              NaN  \n",
       "\n",
       "[5 rows x 144 columns]"
      ]
     },
     "execution_count": 11,
     "metadata": {},
     "output_type": "execute_result"
    }
   ],
   "source": [
    "df.tail()"
   ]
  },
  {
   "cell_type": "markdown",
   "metadata": {
    "colab_type": "text",
    "id": "3nAIRCZdofrY"
   },
   "source": [
    "## Load LendingClub data\n",
    "\n",
    "pandas documentation\n",
    "- [`read_csv`](https://pandas.pydata.org/pandas-docs/stable/generated/pandas.read_csv.html)\n",
    "- [`options.display`](https://pandas.pydata.org/pandas-docs/stable/options.html#available-options)"
   ]
  },
  {
   "cell_type": "code",
   "execution_count": 12,
   "metadata": {
    "colab": {
     "base_uri": "https://localhost:8080/",
     "height": 326
    },
    "colab_type": "code",
    "id": "3-8Vn3y6ooBC",
    "outputId": "b463d628-c3f7-4199-ba09-7533c83939b8"
   },
   "outputs": [],
   "source": [
    "# Set Pandas Display Options\n",
    "pd.set_option('display.max_rows', 500)\n",
    "pd.set_option('display.max_columns', 500)\n",
    " \n",
    "# Accomplished above\n",
    "# df = pd.read_csv('LoanStats_2018Q4.csv', header=1, skipfooter=2, engine='python')\n",
    "# print(df.shape)\n",
    "# df.head()"
   ]
  },
  {
   "cell_type": "code",
   "execution_count": 13,
   "metadata": {
    "colab": {
     "base_uri": "https://localhost:8080/",
     "height": 1000
    },
    "colab_type": "code",
    "id": "ptXBgwKQWLP5",
    "outputId": "875a4d77-054f-42b9-fe3d-aab12d7d5dc8"
   },
   "outputs": [
    {
     "data": {
      "text/plain": [
       "id                                            128412\n",
       "desc                                          128412\n",
       "member_id                                     128412\n",
       "url                                           128412\n",
       "orig_projected_additional_accrued_interest    128345\n",
       "hardship_type                                 128343\n",
       "hardship_last_payment_amount                  128343\n",
       "hardship_payoff_balance_amount                128343\n",
       "hardship_reason                               128343\n",
       "hardship_loan_status                          128343\n",
       "hardship_dpd                                  128343\n",
       "hardship_length                               128343\n",
       "payment_plan_start_date                       128343\n",
       "hardship_end_date                             128343\n",
       "hardship_start_date                           128343\n",
       "hardship_amount                               128343\n",
       "deferral_term                                 128343\n",
       "hardship_status                               128343\n",
       "settlement_percentage                         128244\n",
       "settlement_term                               128244\n",
       "settlement_status                             128244\n",
       "settlement_amount                             128244\n",
       "settlement_date                               128244\n",
       "debt_settlement_flag_date                     128244\n",
       "sec_app_mths_since_last_major_derog           123258\n",
       "verification_status_joint                     113564\n",
       "mths_since_last_record                        112962\n",
       "sec_app_revol_util                            111888\n",
       "sec_app_open_act_il                           111630\n",
       "sec_app_num_rev_accts                         111630\n",
       "sec_app_chargeoff_within_12_mths              111630\n",
       "sec_app_collections_12_mths_ex_med            111630\n",
       "dti_joint                                     111630\n",
       "annual_inc_joint                              111630\n",
       "revol_bal_joint                               111630\n",
       "sec_app_earliest_cr_line                      111630\n",
       "sec_app_inq_last_6mths                        111630\n",
       "sec_app_mort_acc                              111630\n",
       "sec_app_open_acc                              111630\n",
       "mths_since_recent_bc_dlq                      103243\n",
       "mths_since_last_major_derog                    99232\n",
       "mths_since_recent_revol_delinq                 91630\n",
       "mths_since_last_delinq                         72196\n",
       "emp_title                                      20947\n",
       "il_util                                        20274\n",
       "next_pymnt_d                                   18643\n",
       "mths_since_recent_inq                          16047\n",
       "emp_length                                     11704\n",
       "mo_sin_old_il_acct                              4478\n",
       "mths_since_rcnt_il                              4478\n",
       "num_tl_120dpd_2m                                2859\n",
       "bc_util                                         1754\n",
       "percent_bc_gt_75                                1692\n",
       "bc_open_to_buy                                  1691\n",
       "mths_since_recent_bc                            1591\n",
       "dti                                              237\n",
       "last_pymnt_d                                     159\n",
       "revol_util                                       156\n",
       "all_util                                          37\n",
       "avg_cur_bal                                       13\n",
       "last_credit_pull_d                                 1\n",
       "int_rate                                           0\n",
       "initial_list_status                                0\n",
       "out_prncp                                          0\n",
       "out_prncp_inv                                      0\n",
       "total_pymnt                                        0\n",
       "total_pymnt_inv                                    0\n",
       "total_rec_prncp                                    0\n",
       "purpose                                            0\n",
       "total_rec_int                                      0\n",
       "total_acc                                          0\n",
       "funded_amnt_inv                                    0\n",
       "funded_amnt                                        0\n",
       "total_rec_late_fee                                 0\n",
       "recoveries                                         0\n",
       "loan_amnt                                          0\n",
       "collection_recovery_fee                            0\n",
       "term                                               0\n",
       "revol_bal                                          0\n",
       "installment                                        0\n",
       "pymnt_plan                                         0\n",
       "loan_status                                        0\n",
       "title                                              0\n",
       "zip_code                                           0\n",
       "addr_state                                         0\n",
       "issue_d                                            0\n",
       "delinq_2yrs                                        0\n",
       "earliest_cr_line                                   0\n",
       "verification_status                                0\n",
       "annual_inc                                         0\n",
       "inq_last_6mths                                     0\n",
       "home_ownership                                     0\n",
       "sub_grade                                          0\n",
       "grade                                              0\n",
       "open_acc                                           0\n",
       "pub_rec                                            0\n",
       "debt_settlement_flag                               0\n",
       "open_il_12m                                        0\n",
       "last_pymnt_amnt                                    0\n",
       "num_sats                                           0\n",
       "num_accts_ever_120_pd                              0\n",
       "num_actv_bc_tl                                     0\n",
       "num_actv_rev_tl                                    0\n",
       "num_bc_sats                                        0\n",
       "num_bc_tl                                          0\n",
       "num_il_tl                                          0\n",
       "num_op_rev_tl                                      0\n",
       "num_rev_accts                                      0\n",
       "num_rev_tl_bal_gt_0                                0\n",
       "num_tl_30dpd                                       0\n",
       "collections_12_mths_ex_med                         0\n",
       "num_tl_90g_dpd_24m                                 0\n",
       "num_tl_op_past_12m                                 0\n",
       "pct_tl_nvr_dlq                                     0\n",
       "pub_rec_bankruptcies                               0\n",
       "tax_liens                                          0\n",
       "tot_hi_cred_lim                                    0\n",
       "total_bal_ex_mort                                  0\n",
       "total_bc_limit                                     0\n",
       "total_il_high_credit_limit                         0\n",
       "mort_acc                                           0\n",
       "mo_sin_rcnt_tl                                     0\n",
       "mo_sin_rcnt_rev_tl_op                              0\n",
       "mo_sin_old_rev_tl_op                               0\n",
       "policy_code                                        0\n",
       "application_type                                   0\n",
       "acc_now_delinq                                     0\n",
       "tot_coll_amt                                       0\n",
       "tot_cur_bal                                        0\n",
       "open_acc_6m                                        0\n",
       "open_act_il                                        0\n",
       "hardship_flag                                      0\n",
       "open_il_24m                                        0\n",
       "total_bal_il                                       0\n",
       "open_rv_12m                                        0\n",
       "open_rv_24m                                        0\n",
       "max_bal_bc                                         0\n",
       "total_rev_hi_lim                                   0\n",
       "total_cu_tl                                        0\n",
       "inq_last_12m                                       0\n",
       "acc_open_past_24mths                               0\n",
       "chargeoff_within_12_mths                           0\n",
       "delinq_amnt                                        0\n",
       "inq_fi                                             0\n",
       "dtype: int64"
      ]
     },
     "execution_count": 13,
     "metadata": {},
     "output_type": "execute_result"
    }
   ],
   "source": [
    "df.isnull().sum().sort_values(ascending=False)"
   ]
  },
  {
   "cell_type": "markdown",
   "metadata": {
    "colab_type": "text",
    "id": "1b5_hMTio2Ly"
   },
   "source": [
    "## Work with strings"
   ]
  },
  {
   "cell_type": "markdown",
   "metadata": {
    "colab_type": "text",
    "id": "oLXvdRcRu9v9"
   },
   "source": [
    "For machine learning, we usually want to replace strings with numbers.\n",
    "\n",
    "We can get info about which columns have a datatype of \"object\" (strings)"
   ]
  },
  {
   "cell_type": "code",
   "execution_count": 14,
   "metadata": {
    "colab": {
     "base_uri": "https://localhost:8080/",
     "height": 1000
    },
    "colab_type": "code",
    "id": "WOL7QPVNo3F4",
    "outputId": "f415ecb8-cd21-4519-f23e-5c94f3c609e8"
   },
   "outputs": [
    {
     "data": {
      "text/plain": [
       "id                                            float64\n",
       "member_id                                     float64\n",
       "loan_amnt                                       int64\n",
       "funded_amnt                                     int64\n",
       "funded_amnt_inv                               float64\n",
       "term                                           object\n",
       "int_rate                                       object\n",
       "installment                                   float64\n",
       "grade                                          object\n",
       "sub_grade                                      object\n",
       "emp_title                                      object\n",
       "emp_length                                     object\n",
       "home_ownership                                 object\n",
       "annual_inc                                    float64\n",
       "verification_status                            object\n",
       "issue_d                                        object\n",
       "loan_status                                    object\n",
       "pymnt_plan                                     object\n",
       "url                                           float64\n",
       "desc                                          float64\n",
       "purpose                                        object\n",
       "title                                          object\n",
       "zip_code                                       object\n",
       "addr_state                                     object\n",
       "dti                                           float64\n",
       "delinq_2yrs                                     int64\n",
       "earliest_cr_line                               object\n",
       "inq_last_6mths                                  int64\n",
       "mths_since_last_delinq                        float64\n",
       "mths_since_last_record                        float64\n",
       "open_acc                                        int64\n",
       "pub_rec                                         int64\n",
       "revol_bal                                       int64\n",
       "revol_util                                     object\n",
       "total_acc                                       int64\n",
       "initial_list_status                            object\n",
       "out_prncp                                     float64\n",
       "out_prncp_inv                                 float64\n",
       "total_pymnt                                   float64\n",
       "total_pymnt_inv                               float64\n",
       "total_rec_prncp                               float64\n",
       "total_rec_int                                 float64\n",
       "total_rec_late_fee                            float64\n",
       "recoveries                                    float64\n",
       "collection_recovery_fee                       float64\n",
       "last_pymnt_d                                   object\n",
       "last_pymnt_amnt                               float64\n",
       "next_pymnt_d                                   object\n",
       "last_credit_pull_d                             object\n",
       "collections_12_mths_ex_med                      int64\n",
       "mths_since_last_major_derog                   float64\n",
       "policy_code                                     int64\n",
       "application_type                               object\n",
       "annual_inc_joint                              float64\n",
       "dti_joint                                     float64\n",
       "verification_status_joint                      object\n",
       "acc_now_delinq                                  int64\n",
       "tot_coll_amt                                    int64\n",
       "tot_cur_bal                                     int64\n",
       "open_acc_6m                                     int64\n",
       "open_act_il                                     int64\n",
       "open_il_12m                                     int64\n",
       "open_il_24m                                     int64\n",
       "mths_since_rcnt_il                            float64\n",
       "total_bal_il                                    int64\n",
       "il_util                                       float64\n",
       "open_rv_12m                                     int64\n",
       "open_rv_24m                                     int64\n",
       "max_bal_bc                                      int64\n",
       "all_util                                      float64\n",
       "total_rev_hi_lim                                int64\n",
       "inq_fi                                          int64\n",
       "total_cu_tl                                     int64\n",
       "inq_last_12m                                    int64\n",
       "acc_open_past_24mths                            int64\n",
       "avg_cur_bal                                   float64\n",
       "bc_open_to_buy                                float64\n",
       "bc_util                                       float64\n",
       "chargeoff_within_12_mths                        int64\n",
       "delinq_amnt                                     int64\n",
       "mo_sin_old_il_acct                            float64\n",
       "mo_sin_old_rev_tl_op                            int64\n",
       "mo_sin_rcnt_rev_tl_op                           int64\n",
       "mo_sin_rcnt_tl                                  int64\n",
       "mort_acc                                        int64\n",
       "mths_since_recent_bc                          float64\n",
       "mths_since_recent_bc_dlq                      float64\n",
       "mths_since_recent_inq                         float64\n",
       "mths_since_recent_revol_delinq                float64\n",
       "num_accts_ever_120_pd                           int64\n",
       "num_actv_bc_tl                                  int64\n",
       "num_actv_rev_tl                                 int64\n",
       "num_bc_sats                                     int64\n",
       "num_bc_tl                                       int64\n",
       "num_il_tl                                       int64\n",
       "num_op_rev_tl                                   int64\n",
       "num_rev_accts                                   int64\n",
       "num_rev_tl_bal_gt_0                             int64\n",
       "num_sats                                        int64\n",
       "num_tl_120dpd_2m                              float64\n",
       "num_tl_30dpd                                    int64\n",
       "num_tl_90g_dpd_24m                              int64\n",
       "num_tl_op_past_12m                              int64\n",
       "pct_tl_nvr_dlq                                float64\n",
       "percent_bc_gt_75                              float64\n",
       "pub_rec_bankruptcies                            int64\n",
       "tax_liens                                       int64\n",
       "tot_hi_cred_lim                                 int64\n",
       "total_bal_ex_mort                               int64\n",
       "total_bc_limit                                  int64\n",
       "total_il_high_credit_limit                      int64\n",
       "revol_bal_joint                               float64\n",
       "sec_app_earliest_cr_line                       object\n",
       "sec_app_inq_last_6mths                        float64\n",
       "sec_app_mort_acc                              float64\n",
       "sec_app_open_acc                              float64\n",
       "sec_app_revol_util                            float64\n",
       "sec_app_open_act_il                           float64\n",
       "sec_app_num_rev_accts                         float64\n",
       "sec_app_chargeoff_within_12_mths              float64\n",
       "sec_app_collections_12_mths_ex_med            float64\n",
       "sec_app_mths_since_last_major_derog           float64\n",
       "hardship_flag                                  object\n",
       "hardship_type                                  object\n",
       "hardship_reason                                object\n",
       "hardship_status                                object\n",
       "deferral_term                                 float64\n",
       "hardship_amount                               float64\n",
       "hardship_start_date                            object\n",
       "hardship_end_date                              object\n",
       "payment_plan_start_date                        object\n",
       "hardship_length                               float64\n",
       "hardship_dpd                                  float64\n",
       "hardship_loan_status                           object\n",
       "orig_projected_additional_accrued_interest    float64\n",
       "hardship_payoff_balance_amount                float64\n",
       "hardship_last_payment_amount                  float64\n",
       "debt_settlement_flag                           object\n",
       "debt_settlement_flag_date                      object\n",
       "settlement_status                              object\n",
       "settlement_date                                object\n",
       "settlement_amount                             float64\n",
       "settlement_percentage                         float64\n",
       "settlement_term                               float64\n",
       "dtype: object"
      ]
     },
     "execution_count": 14,
     "metadata": {},
     "output_type": "execute_result"
    }
   ],
   "source": [
    "df.dtypes"
   ]
  },
  {
   "cell_type": "markdown",
   "metadata": {
    "colab_type": "text",
    "id": "0Sd5KK32u9wC"
   },
   "source": [
    "### Convert `int_rate`\n",
    "\n",
    "Define a function to remove percent signs from strings and convert to floats"
   ]
  },
  {
   "cell_type": "code",
   "execution_count": null,
   "metadata": {},
   "outputs": [],
   "source": [
    "#set up practice\n",
    "#df['int_rate'] = df['int_rate'].str.rstrip('%').astype('float')/100"
   ]
  },
  {
   "cell_type": "code",
   "execution_count": 15,
   "metadata": {},
   "outputs": [
    {
     "data": {
      "text/plain": [
       "dtype('O')"
      ]
     },
     "execution_count": 15,
     "metadata": {},
     "output_type": "execute_result"
    }
   ],
   "source": [
    " df['int_rate'].dtypes"
   ]
  },
  {
   "cell_type": "code",
   "execution_count": 16,
   "metadata": {
    "colab": {
     "base_uri": "https://localhost:8080/",
     "height": 34
    },
    "colab_type": "code",
    "id": "9gqT_sMJu9wH",
    "outputId": "9807ee41-5582-4797-d9d5-ff9404005aaf"
   },
   "outputs": [],
   "source": [
    "def p2f(column):\n",
    "   df[column] = df[column].str.rstrip('%').astype('float')/100\n"
   ]
  },
  {
   "cell_type": "markdown",
   "metadata": {
    "colab_type": "text",
    "id": "7NWywjvku9wM"
   },
   "source": [
    "Apply the function to the `int_rate` column"
   ]
  },
  {
   "cell_type": "code",
   "execution_count": 17,
   "metadata": {},
   "outputs": [],
   "source": [
    "p2f('int_rate')"
   ]
  },
  {
   "cell_type": "code",
   "execution_count": 18,
   "metadata": {},
   "outputs": [
    {
     "data": {
      "text/plain": [
       "dtype('float64')"
      ]
     },
     "execution_count": 18,
     "metadata": {},
     "output_type": "execute_result"
    }
   ],
   "source": [
    "df['int_rate'].dtypes"
   ]
  },
  {
   "cell_type": "markdown",
   "metadata": {
    "colab_type": "text",
    "id": "2gBYYA5wu9wQ"
   },
   "source": [
    "### Clean `emp_title`\n",
    "\n",
    "Look at top 20 titles"
   ]
  },
  {
   "cell_type": "code",
   "execution_count": 19,
   "metadata": {
    "colab": {},
    "colab_type": "code",
    "collapsed": true,
    "id": "XRm6lYHvu9wS"
   },
   "outputs": [
    {
     "data": {
      "text/plain": [
       "Teacher                     2090\n",
       "Manager                     1773\n",
       "Registered Nurse             952\n",
       "Driver                       924\n",
       "RN                           726\n",
       "Supervisor                   697\n",
       "Sales                        580\n",
       "Project Manager              526\n",
       "General Manager              523\n",
       "Office Manager               521\n",
       "Owner                        420\n",
       "Director                     402\n",
       "Truck Driver                 387\n",
       "Operations Manager           387\n",
       "Nurse                        326\n",
       "Engineer                     325\n",
       "Sales Manager                304\n",
       "manager                      301\n",
       "Supervisor                   270\n",
       "Administrative Assistant     269\n",
       "Name: emp_title, dtype: int64"
      ]
     },
     "execution_count": 19,
     "metadata": {},
     "output_type": "execute_result"
    }
   ],
   "source": [
    "df['emp_title'].value_counts().nlargest(20)"
   ]
  },
  {
   "cell_type": "markdown",
   "metadata": {
    "colab_type": "text",
    "id": "bH6zECMvu9wa"
   },
   "source": [
    "How often is `emp_title` null?"
   ]
  },
  {
   "cell_type": "code",
   "execution_count": 20,
   "metadata": {
    "colab": {},
    "colab_type": "code",
    "id": "Ad580maHu9we"
   },
   "outputs": [
    {
     "data": {
      "text/plain": [
       "20947"
      ]
     },
     "execution_count": 20,
     "metadata": {},
     "output_type": "execute_result"
    }
   ],
   "source": [
    "df['emp_title'].isnull().sum()"
   ]
  },
  {
   "cell_type": "markdown",
   "metadata": {
    "colab_type": "text",
    "id": "FW8FJ6-Ru9wh"
   },
   "source": [
    "Clean the title and handle missing values"
   ]
  },
  {
   "cell_type": "code",
   "execution_count": 21,
   "metadata": {
    "colab": {},
    "colab_type": "code",
    "id": "8l2x9rUtu9xX"
   },
   "outputs": [],
   "source": [
    "df['emp_title'].fillna(\"unknown\", inplace=True)"
   ]
  },
  {
   "cell_type": "code",
   "execution_count": 22,
   "metadata": {},
   "outputs": [
    {
     "data": {
      "text/plain": [
       "0"
      ]
     },
     "execution_count": 22,
     "metadata": {},
     "output_type": "execute_result"
    }
   ],
   "source": [
    "df['emp_title'].isnull().sum()"
   ]
  },
  {
   "cell_type": "markdown",
   "metadata": {
    "colab_type": "text",
    "id": "Y7_xIBDCu9xr"
   },
   "source": [
    "### Create `emp_title_manager`\n",
    "\n",
    "pandas documentation: [`str.contains`](https://pandas.pydata.org/pandas-docs/stable/generated/pandas.Series.str.contains.html)"
   ]
  },
  {
   "cell_type": "code",
   "execution_count": 23,
   "metadata": {
    "colab": {},
    "colab_type": "code",
    "collapsed": true,
    "id": "MM-8EzWku9xt"
   },
   "outputs": [
    {
     "data": {
      "text/plain": [
       "0         False\n",
       "1         False\n",
       "2         False\n",
       "3         False\n",
       "4         False\n",
       "5         False\n",
       "6         False\n",
       "7         False\n",
       "8         False\n",
       "9         False\n",
       "10        False\n",
       "11        False\n",
       "12        False\n",
       "13        False\n",
       "14        False\n",
       "15        False\n",
       "16        False\n",
       "17        False\n",
       "18        False\n",
       "19        False\n",
       "20        False\n",
       "21        False\n",
       "22        False\n",
       "23        False\n",
       "24        False\n",
       "25        False\n",
       "26        False\n",
       "27        False\n",
       "28        False\n",
       "29        False\n",
       "30        False\n",
       "31        False\n",
       "32        False\n",
       "33        False\n",
       "34        False\n",
       "35        False\n",
       "36        False\n",
       "37        False\n",
       "38        False\n",
       "39        False\n",
       "40        False\n",
       "41        False\n",
       "42        False\n",
       "43        False\n",
       "44         True\n",
       "45        False\n",
       "46        False\n",
       "47        False\n",
       "48        False\n",
       "49        False\n",
       "50        False\n",
       "51        False\n",
       "52         True\n",
       "53        False\n",
       "54        False\n",
       "55        False\n",
       "56        False\n",
       "57        False\n",
       "58        False\n",
       "59        False\n",
       "60        False\n",
       "61        False\n",
       "62        False\n",
       "63        False\n",
       "64        False\n",
       "65        False\n",
       "66        False\n",
       "67        False\n",
       "68        False\n",
       "69        False\n",
       "70        False\n",
       "71        False\n",
       "72        False\n",
       "73        False\n",
       "74        False\n",
       "75        False\n",
       "76        False\n",
       "77        False\n",
       "78        False\n",
       "79        False\n",
       "80        False\n",
       "81        False\n",
       "82        False\n",
       "83        False\n",
       "84        False\n",
       "85        False\n",
       "86        False\n",
       "87        False\n",
       "88        False\n",
       "89        False\n",
       "90        False\n",
       "91        False\n",
       "92        False\n",
       "93        False\n",
       "94        False\n",
       "95        False\n",
       "96        False\n",
       "97        False\n",
       "98        False\n",
       "99        False\n",
       "100       False\n",
       "101       False\n",
       "102       False\n",
       "103       False\n",
       "104       False\n",
       "105       False\n",
       "106       False\n",
       "107       False\n",
       "108       False\n",
       "109       False\n",
       "110       False\n",
       "111       False\n",
       "112       False\n",
       "113       False\n",
       "114       False\n",
       "115       False\n",
       "116       False\n",
       "117       False\n",
       "118       False\n",
       "119       False\n",
       "120       False\n",
       "121       False\n",
       "122       False\n",
       "123       False\n",
       "124       False\n",
       "125       False\n",
       "126       False\n",
       "127       False\n",
       "128       False\n",
       "129       False\n",
       "130       False\n",
       "131       False\n",
       "132       False\n",
       "133       False\n",
       "134       False\n",
       "135       False\n",
       "136        True\n",
       "137       False\n",
       "138       False\n",
       "139       False\n",
       "140       False\n",
       "141       False\n",
       "142       False\n",
       "143       False\n",
       "144       False\n",
       "145       False\n",
       "146       False\n",
       "147       False\n",
       "148       False\n",
       "149       False\n",
       "150        True\n",
       "151       False\n",
       "152       False\n",
       "153       False\n",
       "154       False\n",
       "155       False\n",
       "156       False\n",
       "157       False\n",
       "158       False\n",
       "159       False\n",
       "160       False\n",
       "161       False\n",
       "162       False\n",
       "163       False\n",
       "164       False\n",
       "165       False\n",
       "166       False\n",
       "167       False\n",
       "168       False\n",
       "169       False\n",
       "170       False\n",
       "171       False\n",
       "172       False\n",
       "173       False\n",
       "174       False\n",
       "175       False\n",
       "176       False\n",
       "177       False\n",
       "178       False\n",
       "179       False\n",
       "180       False\n",
       "181       False\n",
       "182       False\n",
       "183       False\n",
       "184       False\n",
       "185       False\n",
       "186       False\n",
       "187       False\n",
       "188       False\n",
       "189       False\n",
       "190       False\n",
       "191        True\n",
       "192       False\n",
       "193       False\n",
       "194       False\n",
       "195       False\n",
       "196       False\n",
       "197       False\n",
       "198       False\n",
       "199       False\n",
       "200       False\n",
       "201       False\n",
       "202       False\n",
       "203       False\n",
       "204       False\n",
       "205       False\n",
       "206       False\n",
       "207       False\n",
       "208       False\n",
       "209       False\n",
       "210       False\n",
       "211       False\n",
       "212       False\n",
       "213       False\n",
       "214       False\n",
       "215       False\n",
       "216       False\n",
       "217       False\n",
       "218       False\n",
       "219       False\n",
       "220       False\n",
       "221       False\n",
       "222       False\n",
       "223       False\n",
       "224       False\n",
       "225       False\n",
       "226       False\n",
       "227       False\n",
       "228       False\n",
       "229       False\n",
       "230       False\n",
       "231       False\n",
       "232       False\n",
       "233       False\n",
       "234       False\n",
       "235       False\n",
       "236       False\n",
       "237       False\n",
       "238       False\n",
       "239       False\n",
       "240       False\n",
       "241       False\n",
       "242       False\n",
       "243       False\n",
       "244       False\n",
       "245       False\n",
       "246       False\n",
       "247       False\n",
       "248       False\n",
       "249       False\n",
       "          ...  \n",
       "128162    False\n",
       "128163     True\n",
       "128164    False\n",
       "128165    False\n",
       "128166    False\n",
       "128167    False\n",
       "128168    False\n",
       "128169    False\n",
       "128170    False\n",
       "128171    False\n",
       "128172    False\n",
       "128173    False\n",
       "128174    False\n",
       "128175    False\n",
       "128176    False\n",
       "128177    False\n",
       "128178    False\n",
       "128179    False\n",
       "128180    False\n",
       "128181    False\n",
       "128182    False\n",
       "128183    False\n",
       "128184    False\n",
       "128185    False\n",
       "128186    False\n",
       "128187    False\n",
       "128188    False\n",
       "128189    False\n",
       "128190    False\n",
       "128191    False\n",
       "128192    False\n",
       "128193    False\n",
       "128194    False\n",
       "128195    False\n",
       "128196    False\n",
       "128197    False\n",
       "128198    False\n",
       "128199    False\n",
       "128200    False\n",
       "128201    False\n",
       "128202    False\n",
       "128203    False\n",
       "128204    False\n",
       "128205    False\n",
       "128206    False\n",
       "128207    False\n",
       "128208    False\n",
       "128209    False\n",
       "128210    False\n",
       "128211    False\n",
       "128212    False\n",
       "128213     True\n",
       "128214    False\n",
       "128215    False\n",
       "128216    False\n",
       "128217    False\n",
       "128218    False\n",
       "128219    False\n",
       "128220    False\n",
       "128221    False\n",
       "128222    False\n",
       "128223    False\n",
       "128224    False\n",
       "128225    False\n",
       "128226    False\n",
       "128227    False\n",
       "128228    False\n",
       "128229    False\n",
       "128230    False\n",
       "128231    False\n",
       "128232    False\n",
       "128233    False\n",
       "128234    False\n",
       "128235    False\n",
       "128236    False\n",
       "128237    False\n",
       "128238     True\n",
       "128239    False\n",
       "128240    False\n",
       "128241    False\n",
       "128242    False\n",
       "128243    False\n",
       "128244    False\n",
       "128245    False\n",
       "128246    False\n",
       "128247    False\n",
       "128248    False\n",
       "128249    False\n",
       "128250    False\n",
       "128251    False\n",
       "128252    False\n",
       "128253    False\n",
       "128254    False\n",
       "128255    False\n",
       "128256    False\n",
       "128257    False\n",
       "128258    False\n",
       "128259    False\n",
       "128260    False\n",
       "128261    False\n",
       "128262    False\n",
       "128263    False\n",
       "128264    False\n",
       "128265    False\n",
       "128266    False\n",
       "128267    False\n",
       "128268    False\n",
       "128269    False\n",
       "128270    False\n",
       "128271    False\n",
       "128272    False\n",
       "128273    False\n",
       "128274    False\n",
       "128275    False\n",
       "128276    False\n",
       "128277    False\n",
       "128278    False\n",
       "128279    False\n",
       "128280    False\n",
       "128281    False\n",
       "128282    False\n",
       "128283    False\n",
       "128284    False\n",
       "128285    False\n",
       "128286    False\n",
       "128287    False\n",
       "128288    False\n",
       "128289    False\n",
       "128290    False\n",
       "128291    False\n",
       "128292    False\n",
       "128293    False\n",
       "128294    False\n",
       "128295    False\n",
       "128296    False\n",
       "128297    False\n",
       "128298    False\n",
       "128299    False\n",
       "128300    False\n",
       "128301    False\n",
       "128302    False\n",
       "128303    False\n",
       "128304    False\n",
       "128305    False\n",
       "128306    False\n",
       "128307    False\n",
       "128308    False\n",
       "128309     True\n",
       "128310    False\n",
       "128311    False\n",
       "128312    False\n",
       "128313    False\n",
       "128314    False\n",
       "128315    False\n",
       "128316    False\n",
       "128317    False\n",
       "128318    False\n",
       "128319    False\n",
       "128320    False\n",
       "128321    False\n",
       "128322    False\n",
       "128323    False\n",
       "128324    False\n",
       "128325    False\n",
       "128326    False\n",
       "128327    False\n",
       "128328    False\n",
       "128329    False\n",
       "128330    False\n",
       "128331    False\n",
       "128332    False\n",
       "128333    False\n",
       "128334    False\n",
       "128335     True\n",
       "128336    False\n",
       "128337    False\n",
       "128338    False\n",
       "128339    False\n",
       "128340    False\n",
       "128341    False\n",
       "128342    False\n",
       "128343    False\n",
       "128344    False\n",
       "128345    False\n",
       "128346    False\n",
       "128347    False\n",
       "128348    False\n",
       "128349    False\n",
       "128350    False\n",
       "128351    False\n",
       "128352     True\n",
       "128353    False\n",
       "128354    False\n",
       "128355    False\n",
       "128356    False\n",
       "128357     True\n",
       "128358    False\n",
       "128359    False\n",
       "128360    False\n",
       "128361    False\n",
       "128362    False\n",
       "128363    False\n",
       "128364    False\n",
       "128365    False\n",
       "128366    False\n",
       "128367    False\n",
       "128368    False\n",
       "128369    False\n",
       "128370    False\n",
       "128371    False\n",
       "128372    False\n",
       "128373    False\n",
       "128374     True\n",
       "128375    False\n",
       "128376    False\n",
       "128377    False\n",
       "128378    False\n",
       "128379    False\n",
       "128380    False\n",
       "128381    False\n",
       "128382    False\n",
       "128383    False\n",
       "128384    False\n",
       "128385    False\n",
       "128386     True\n",
       "128387    False\n",
       "128388    False\n",
       "128389    False\n",
       "128390    False\n",
       "128391    False\n",
       "128392    False\n",
       "128393    False\n",
       "128394    False\n",
       "128395    False\n",
       "128396    False\n",
       "128397    False\n",
       "128398    False\n",
       "128399    False\n",
       "128400    False\n",
       "128401    False\n",
       "128402    False\n",
       "128403    False\n",
       "128404    False\n",
       "128405    False\n",
       "128406    False\n",
       "128407    False\n",
       "128408    False\n",
       "128409    False\n",
       "128410    False\n",
       "128411    False\n",
       "Name: emp_title, Length: 128412, dtype: bool"
      ]
     },
     "execution_count": 23,
     "metadata": {},
     "output_type": "execute_result"
    }
   ],
   "source": [
    "df['emp_title'].str.contains('manager')"
   ]
  },
  {
   "cell_type": "code",
   "execution_count": 24,
   "metadata": {},
   "outputs": [
    {
     "data": {
      "text/plain": [
       "False    125034\n",
       "True       3378\n",
       "Name: emp_title, dtype: int64"
      ]
     },
     "execution_count": 24,
     "metadata": {},
     "output_type": "execute_result"
    }
   ],
   "source": [
    "df['emp_title'].str.contains('manager').value_counts()"
   ]
  },
  {
   "cell_type": "code",
   "execution_count": 25,
   "metadata": {},
   "outputs": [
    {
     "data": {
      "text/plain": [
       "False    125034\n",
       "True       3378\n",
       "Name: emp_title, dtype: int64"
      ]
     },
     "execution_count": 25,
     "metadata": {},
     "output_type": "execute_result"
    }
   ],
   "source": [
    "df['emp_title'].str.contains('manager').value_counts()"
   ]
  },
  {
   "cell_type": "code",
   "execution_count": 26,
   "metadata": {},
   "outputs": [],
   "source": [
    "manager=(df['emp_title'].str.contains('manager'))"
   ]
  },
  {
   "cell_type": "code",
   "execution_count": 27,
   "metadata": {},
   "outputs": [],
   "source": [
    "df['manager'] = manager\n",
    "        "
   ]
  },
  {
   "cell_type": "code",
   "execution_count": 28,
   "metadata": {},
   "outputs": [
    {
     "data": {
      "text/plain": [
       "False    125034\n",
       "True       3378\n",
       "Name: manager, dtype: int64"
      ]
     },
     "execution_count": 28,
     "metadata": {},
     "output_type": "execute_result"
    }
   ],
   "source": [
    "df.manager.value_counts()"
   ]
  },
  {
   "cell_type": "markdown",
   "metadata": {
    "colab_type": "text",
    "id": "s8BcCY6so3by"
   },
   "source": [
    "## Work with dates"
   ]
  },
  {
   "cell_type": "markdown",
   "metadata": {
    "colab_type": "text",
    "id": "Qf9rsQhuu9xx"
   },
   "source": [
    "pandas documentation\n",
    "- [to_datetime](https://pandas.pydata.org/pandas-docs/stable/generated/pandas.to_datetime.html)\n",
    "- [Time/Date Components](https://pandas.pydata.org/pandas-docs/stable/timeseries.html#time-date-components) \"You can access these properties via the `.dt` accessor\""
   ]
  },
  {
   "cell_type": "code",
   "execution_count": null,
   "metadata": {
    "colab": {},
    "colab_type": "code",
    "id": "kNrKxOTeo4W3"
   },
   "outputs": [],
   "source": []
  },
  {
   "cell_type": "markdown",
   "metadata": {
    "colab_type": "text",
    "id": "9IGijOXyu9x1"
   },
   "source": [
    "# ASSIGNMENT\n",
    "\n",
    "- Replicate the lesson code.\n",
    "\n",
    "- Convert the `term` column from string to integer.\n",
    "\n",
    "- Make a column named `loan_status_is_great`. It should contain the integer 1 if `loan_status` is \"Current\" or \"Fully Paid.\" Else it should contain the integer 0.\n",
    "\n",
    "- Make `last_pymnt_d_month` and `last_pymnt_d_year` columns."
   ]
  },
  {
   "cell_type": "code",
   "execution_count": 29,
   "metadata": {},
   "outputs": [
    {
     "data": {
      "text/plain": [
       "0     36 months\n",
       "1     60 months\n",
       "2     60 months\n",
       "3     36 months\n",
       "4     60 months\n",
       "Name: term, dtype: object"
      ]
     },
     "execution_count": 29,
     "metadata": {},
     "output_type": "execute_result"
    }
   ],
   "source": [
    "df['term'].head()"
   ]
  },
  {
   "cell_type": "code",
   "execution_count": 30,
   "metadata": {},
   "outputs": [],
   "source": [
    "df['term'] = df['term'].str.rstrip('months').astype('int')"
   ]
  },
  {
   "cell_type": "code",
   "execution_count": 31,
   "metadata": {},
   "outputs": [
    {
     "data": {
      "text/plain": [
       "0    36\n",
       "1    60\n",
       "2    60\n",
       "3    36\n",
       "4    60\n",
       "Name: term, dtype: int32"
      ]
     },
     "execution_count": 31,
     "metadata": {},
     "output_type": "execute_result"
    }
   ],
   "source": [
    "df['term'].head()"
   ]
  },
  {
   "cell_type": "markdown",
   "metadata": {},
   "source": [
    "**Make a column named loan_status_is_great. It should contain the integer 1 if loan_status is \"Current\" or \"Fully Paid.\" \n",
    "Else it should contain the integer 0.**"
   ]
  },
  {
   "cell_type": "code",
   "execution_count": 32,
   "metadata": {},
   "outputs": [
    {
     "data": {
      "text/plain": [
       "0       Current\n",
       "1    Fully Paid\n",
       "2       Current\n",
       "3       Current\n",
       "4    Fully Paid\n",
       "Name: loan_status, dtype: object"
      ]
     },
     "execution_count": 32,
     "metadata": {},
     "output_type": "execute_result"
    }
   ],
   "source": [
    "df['loan_status'].head()"
   ]
  },
  {
   "cell_type": "code",
   "execution_count": 33,
   "metadata": {},
   "outputs": [],
   "source": [
    "#first get values\n",
    "loan_status_is_great = (df['loan_status'] == 'Current') | (df['loan_status'] == 'Fully Paid')"
   ]
  },
  {
   "cell_type": "code",
   "execution_count": 35,
   "metadata": {},
   "outputs": [],
   "source": [
    "df['loan_status_is_great'] = loan_status_is_great"
   ]
  },
  {
   "cell_type": "code",
   "execution_count": 37,
   "metadata": {},
   "outputs": [
    {
     "data": {
      "text/plain": [
       "0    True\n",
       "1    True\n",
       "2    True\n",
       "3    True\n",
       "4    True\n",
       "Name: loan_status_is_great, dtype: bool"
      ]
     },
     "execution_count": 37,
     "metadata": {},
     "output_type": "execute_result"
    }
   ],
   "source": [
    "df.loan_status_is_great.head()"
   ]
  },
  {
   "cell_type": "code",
   "execution_count": 38,
   "metadata": {},
   "outputs": [
    {
     "data": {
      "text/plain": [
       "True     121705\n",
       "False      6707\n",
       "Name: loan_status_is_great, dtype: int64"
      ]
     },
     "execution_count": 38,
     "metadata": {},
     "output_type": "execute_result"
    }
   ],
   "source": [
    "df.loan_status_is_great.value_counts()"
   ]
  },
  {
   "cell_type": "code",
   "execution_count": 41,
   "metadata": {},
   "outputs": [
    {
     "data": {
      "text/plain": [
       "True     121705\n",
       "False      6707\n",
       "Name: loan_status_is_great, dtype: int64"
      ]
     },
     "execution_count": 41,
     "metadata": {},
     "output_type": "execute_result"
    }
   ],
   "source": [
    "df['loan_status_is_great'].replace(True, 1)\n",
    "df['loan_status_is_great'].replace(False, 0)\n",
    "df['loan_status_is_great'].value_counts()"
   ]
  },
  {
   "cell_type": "code",
   "execution_count": 72,
   "metadata": {},
   "outputs": [],
   "source": [
    "manager=(df['emp_title'].str.contains('manager'))"
   ]
  },
  {
   "cell_type": "code",
   "execution_count": 73,
   "metadata": {},
   "outputs": [],
   "source": [
    "def find_p(df):\n",
    "    for col in df.columns:\n",
    "        if df[col].contains('%'):\n",
    "            print(col)"
   ]
  },
  {
   "cell_type": "code",
   "execution_count": 74,
   "metadata": {
    "collapsed": true
   },
   "outputs": [
    {
     "ename": "AttributeError",
     "evalue": "'Series' object has no attribute 'contains'",
     "output_type": "error",
     "traceback": [
      "\u001b[1;31m---------------------------------------------------------------------------\u001b[0m",
      "\u001b[1;31mAttributeError\u001b[0m                            Traceback (most recent call last)",
      "\u001b[1;32m<ipython-input-74-9f4c20e3087f>\u001b[0m in \u001b[0;36m<module>\u001b[1;34m\u001b[0m\n\u001b[1;32m----> 1\u001b[1;33m \u001b[0mfind_p\u001b[0m\u001b[1;33m(\u001b[0m\u001b[0mdf\u001b[0m\u001b[1;33m)\u001b[0m\u001b[1;33m\u001b[0m\u001b[1;33m\u001b[0m\u001b[0m\n\u001b[0m",
      "\u001b[1;32m<ipython-input-73-fbb5769744a9>\u001b[0m in \u001b[0;36mfind_p\u001b[1;34m(df)\u001b[0m\n\u001b[0;32m      1\u001b[0m \u001b[1;32mdef\u001b[0m \u001b[0mfind_p\u001b[0m\u001b[1;33m(\u001b[0m\u001b[0mdf\u001b[0m\u001b[1;33m)\u001b[0m\u001b[1;33m:\u001b[0m\u001b[1;33m\u001b[0m\u001b[1;33m\u001b[0m\u001b[0m\n\u001b[0;32m      2\u001b[0m     \u001b[1;32mfor\u001b[0m \u001b[0mcol\u001b[0m \u001b[1;32min\u001b[0m \u001b[0mdf\u001b[0m\u001b[1;33m.\u001b[0m\u001b[0mcolumns\u001b[0m\u001b[1;33m:\u001b[0m\u001b[1;33m\u001b[0m\u001b[1;33m\u001b[0m\u001b[0m\n\u001b[1;32m----> 3\u001b[1;33m         \u001b[1;32mif\u001b[0m \u001b[0mdf\u001b[0m\u001b[1;33m[\u001b[0m\u001b[0mcol\u001b[0m\u001b[1;33m]\u001b[0m\u001b[1;33m.\u001b[0m\u001b[0mcontains\u001b[0m\u001b[1;33m(\u001b[0m\u001b[1;34m'%'\u001b[0m\u001b[1;33m)\u001b[0m\u001b[1;33m:\u001b[0m\u001b[1;33m\u001b[0m\u001b[1;33m\u001b[0m\u001b[0m\n\u001b[0m\u001b[0;32m      4\u001b[0m             \u001b[0mprint\u001b[0m\u001b[1;33m(\u001b[0m\u001b[0mcol\u001b[0m\u001b[1;33m)\u001b[0m\u001b[1;33m\u001b[0m\u001b[1;33m\u001b[0m\u001b[0m\n",
      "\u001b[1;32m~\\Anaconda3\\lib\\site-packages\\pandas\\core\\generic.py\u001b[0m in \u001b[0;36m__getattr__\u001b[1;34m(self, name)\u001b[0m\n\u001b[0;32m   4374\u001b[0m             \u001b[1;32mif\u001b[0m \u001b[0mself\u001b[0m\u001b[1;33m.\u001b[0m\u001b[0m_info_axis\u001b[0m\u001b[1;33m.\u001b[0m\u001b[0m_can_hold_identifiers_and_holds_name\u001b[0m\u001b[1;33m(\u001b[0m\u001b[0mname\u001b[0m\u001b[1;33m)\u001b[0m\u001b[1;33m:\u001b[0m\u001b[1;33m\u001b[0m\u001b[1;33m\u001b[0m\u001b[0m\n\u001b[0;32m   4375\u001b[0m                 \u001b[1;32mreturn\u001b[0m \u001b[0mself\u001b[0m\u001b[1;33m[\u001b[0m\u001b[0mname\u001b[0m\u001b[1;33m]\u001b[0m\u001b[1;33m\u001b[0m\u001b[1;33m\u001b[0m\u001b[0m\n\u001b[1;32m-> 4376\u001b[1;33m             \u001b[1;32mreturn\u001b[0m \u001b[0mobject\u001b[0m\u001b[1;33m.\u001b[0m\u001b[0m__getattribute__\u001b[0m\u001b[1;33m(\u001b[0m\u001b[0mself\u001b[0m\u001b[1;33m,\u001b[0m \u001b[0mname\u001b[0m\u001b[1;33m)\u001b[0m\u001b[1;33m\u001b[0m\u001b[1;33m\u001b[0m\u001b[0m\n\u001b[0m\u001b[0;32m   4377\u001b[0m \u001b[1;33m\u001b[0m\u001b[0m\n\u001b[0;32m   4378\u001b[0m     \u001b[1;32mdef\u001b[0m \u001b[0m__setattr__\u001b[0m\u001b[1;33m(\u001b[0m\u001b[0mself\u001b[0m\u001b[1;33m,\u001b[0m \u001b[0mname\u001b[0m\u001b[1;33m,\u001b[0m \u001b[0mvalue\u001b[0m\u001b[1;33m)\u001b[0m\u001b[1;33m:\u001b[0m\u001b[1;33m\u001b[0m\u001b[1;33m\u001b[0m\u001b[0m\n",
      "\u001b[1;31mAttributeError\u001b[0m: 'Series' object has no attribute 'contains'"
     ]
    }
   ],
   "source": [
    "find_p(df)"
   ]
  },
  {
   "cell_type": "markdown",
   "metadata": {
    "colab_type": "text",
    "id": "L8k0LiHmo5EU"
   },
   "source": [
    "# STRETCH OPTIONS\n",
    "\n",
    "You can do more with the LendingClub or Instacart datasets.\n",
    "\n",
    "LendingClub options:\n",
    "- There's one other column in the dataframe with percent signs. Remove them and convert to floats. You'll need to handle missing values.\n",
    "- Modify the `emp_title` column to replace titles with 'Other' if the title is not in the top 20. \n",
    "- Take initiatve and work on your own ideas!\n",
    "\n",
    "Instacart options:\n",
    "- Read [Instacart Market Basket Analysis, Winner's Interview: 2nd place, Kazuki Onodera](http://blog.kaggle.com/2017/09/21/instacart-market-basket-analysis-winners-interview-2nd-place-kazuki-onodera/), especially the **Feature Engineering** section. (Can you choose one feature from his bulleted lists, and try to engineer it with pandas code?)\n",
    "- Read and replicate parts of [Simple Exploration Notebook - Instacart](https://www.kaggle.com/sudalairajkumar/simple-exploration-notebook-instacart). (It's the Python Notebook with the most upvotes for this Kaggle competition.)\n",
    "- Take initiative and work on your own ideas!"
   ]
  },
  {
   "cell_type": "markdown",
   "metadata": {
    "colab_type": "text",
    "id": "0_7PXF7lpEXg"
   },
   "source": [
    "You can uncomment and run the cells below to re-download and extract the Instacart data"
   ]
  },
  {
   "cell_type": "code",
   "execution_count": null,
   "metadata": {
    "colab": {},
    "colab_type": "code",
    "id": "E0O8YFHgu9x4"
   },
   "outputs": [],
   "source": [
    "# !wget https://s3.amazonaws.com/instacart-datasets/instacart_online_grocery_shopping_2017_05_01.tar.gz"
   ]
  },
  {
   "cell_type": "code",
   "execution_count": null,
   "metadata": {
    "colab": {},
    "colab_type": "code",
    "id": "49umd6CJu9x6"
   },
   "outputs": [],
   "source": [
    "# !tar --gunzip --extract --verbose --file=instacart_online_grocery_shopping_2017_05_01.tar.gz"
   ]
  },
  {
   "cell_type": "code",
   "execution_count": null,
   "metadata": {
    "colab": {},
    "colab_type": "code",
    "id": "rZg47AoUu9x9"
   },
   "outputs": [],
   "source": [
    "# %cd instacart_2017_05_01"
   ]
  }
 ],
 "metadata": {
  "colab": {
   "collapsed_sections": [],
   "name": "Andrea Christelle -114_Make_features.ipynb",
   "provenance": []
  },
  "kernelspec": {
   "display_name": "Python 3",
   "language": "python",
   "name": "python3"
  },
  "language_info": {
   "codemirror_mode": {
    "name": "ipython",
    "version": 3
   },
   "file_extension": ".py",
   "mimetype": "text/x-python",
   "name": "python",
   "nbconvert_exporter": "python",
   "pygments_lexer": "ipython3",
   "version": "3.7.3"
  }
 },
 "nbformat": 4,
 "nbformat_minor": 1
}
